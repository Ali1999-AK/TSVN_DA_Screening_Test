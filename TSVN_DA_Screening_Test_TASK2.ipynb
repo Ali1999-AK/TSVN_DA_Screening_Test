{
 "cells": [
  {
   "cell_type": "code",
   "execution_count": 1,
   "id": "792bd9d7",
   "metadata": {},
   "outputs": [],
   "source": [
    "#importing libraries \n",
    "import pandas as pd \n",
    "import numpy as np\n",
    "import matplotlib as plt \n",
    "import seaborn as sns "
   ]
  },
  {
   "cell_type": "code",
   "execution_count": 2,
   "id": "90eb0692",
   "metadata": {},
   "outputs": [],
   "source": [
    "df = pd.read_csv(\"mkt_data.csv\",)"
   ]
  },
  {
   "cell_type": "code",
   "execution_count": 3,
   "id": "62c8ed13",
   "metadata": {},
   "outputs": [
    {
     "data": {
      "text/html": [
       "<div>\n",
       "<style scoped>\n",
       "    .dataframe tbody tr th:only-of-type {\n",
       "        vertical-align: middle;\n",
       "    }\n",
       "\n",
       "    .dataframe tbody tr th {\n",
       "        vertical-align: top;\n",
       "    }\n",
       "\n",
       "    .dataframe thead th {\n",
       "        text-align: right;\n",
       "    }\n",
       "</style>\n",
       "<table border=\"1\" class=\"dataframe\">\n",
       "  <thead>\n",
       "    <tr style=\"text-align: right;\">\n",
       "      <th></th>\n",
       "      <th>id</th>\n",
       "      <th>send_date</th>\n",
       "      <th>estimated_age</th>\n",
       "      <th>age_range</th>\n",
       "      <th>channel</th>\n",
       "      <th>coupon</th>\n",
       "      <th>clicked</th>\n",
       "      <th>last_step</th>\n",
       "      <th>nb_units</th>\n",
       "      <th>order_value</th>\n",
       "    </tr>\n",
       "  </thead>\n",
       "  <tbody>\n",
       "    <tr>\n",
       "      <th>0</th>\n",
       "      <td>1</td>\n",
       "      <td>2019-04-12</td>\n",
       "      <td>59</td>\n",
       "      <td>46-60</td>\n",
       "      <td>SMS</td>\n",
       "      <td>2</td>\n",
       "      <td>0</td>\n",
       "      <td>received</td>\n",
       "      <td>0</td>\n",
       "      <td>0</td>\n",
       "    </tr>\n",
       "    <tr>\n",
       "      <th>1</th>\n",
       "      <td>2</td>\n",
       "      <td>2019-04-08</td>\n",
       "      <td>27</td>\n",
       "      <td>18-30</td>\n",
       "      <td>Email</td>\n",
       "      <td>2</td>\n",
       "      <td>0</td>\n",
       "      <td>received</td>\n",
       "      <td>0</td>\n",
       "      <td>0</td>\n",
       "    </tr>\n",
       "    <tr>\n",
       "      <th>2</th>\n",
       "      <td>3</td>\n",
       "      <td>2019-04-05</td>\n",
       "      <td>74</td>\n",
       "      <td>60+</td>\n",
       "      <td>Email</td>\n",
       "      <td>2</td>\n",
       "      <td>0</td>\n",
       "      <td>received</td>\n",
       "      <td>0</td>\n",
       "      <td>0</td>\n",
       "    </tr>\n",
       "    <tr>\n",
       "      <th>3</th>\n",
       "      <td>4</td>\n",
       "      <td>2019-04-21</td>\n",
       "      <td>32</td>\n",
       "      <td>31-45</td>\n",
       "      <td>SMS</td>\n",
       "      <td>2</td>\n",
       "      <td>0</td>\n",
       "      <td>received</td>\n",
       "      <td>0</td>\n",
       "      <td>0</td>\n",
       "    </tr>\n",
       "    <tr>\n",
       "      <th>4</th>\n",
       "      <td>5</td>\n",
       "      <td>2019-04-28</td>\n",
       "      <td>42</td>\n",
       "      <td>31-45</td>\n",
       "      <td>Email</td>\n",
       "      <td>2</td>\n",
       "      <td>0</td>\n",
       "      <td>received</td>\n",
       "      <td>0</td>\n",
       "      <td>0</td>\n",
       "    </tr>\n",
       "    <tr>\n",
       "      <th>...</th>\n",
       "      <td>...</td>\n",
       "      <td>...</td>\n",
       "      <td>...</td>\n",
       "      <td>...</td>\n",
       "      <td>...</td>\n",
       "      <td>...</td>\n",
       "      <td>...</td>\n",
       "      <td>...</td>\n",
       "      <td>...</td>\n",
       "      <td>...</td>\n",
       "    </tr>\n",
       "    <tr>\n",
       "      <th>299995</th>\n",
       "      <td>299996</td>\n",
       "      <td>2019-04-26</td>\n",
       "      <td>23</td>\n",
       "      <td>18-30</td>\n",
       "      <td>Email</td>\n",
       "      <td>2</td>\n",
       "      <td>0</td>\n",
       "      <td>received</td>\n",
       "      <td>0</td>\n",
       "      <td>0</td>\n",
       "    </tr>\n",
       "    <tr>\n",
       "      <th>299996</th>\n",
       "      <td>299997</td>\n",
       "      <td>2019-04-30</td>\n",
       "      <td>52</td>\n",
       "      <td>46-60</td>\n",
       "      <td>SMS</td>\n",
       "      <td>4</td>\n",
       "      <td>0</td>\n",
       "      <td>received</td>\n",
       "      <td>0</td>\n",
       "      <td>0</td>\n",
       "    </tr>\n",
       "    <tr>\n",
       "      <th>299997</th>\n",
       "      <td>299998</td>\n",
       "      <td>2019-04-22</td>\n",
       "      <td>20</td>\n",
       "      <td>18-30</td>\n",
       "      <td>SMS</td>\n",
       "      <td>2</td>\n",
       "      <td>0</td>\n",
       "      <td>received</td>\n",
       "      <td>0</td>\n",
       "      <td>0</td>\n",
       "    </tr>\n",
       "    <tr>\n",
       "      <th>299998</th>\n",
       "      <td>299999</td>\n",
       "      <td>2019-04-04</td>\n",
       "      <td>53</td>\n",
       "      <td>46-60</td>\n",
       "      <td>SMS</td>\n",
       "      <td>2</td>\n",
       "      <td>0</td>\n",
       "      <td>received</td>\n",
       "      <td>0</td>\n",
       "      <td>0</td>\n",
       "    </tr>\n",
       "    <tr>\n",
       "      <th>299999</th>\n",
       "      <td>300000</td>\n",
       "      <td>2019-04-09</td>\n",
       "      <td>20</td>\n",
       "      <td>18-30</td>\n",
       "      <td>Email</td>\n",
       "      <td>2</td>\n",
       "      <td>0</td>\n",
       "      <td>received</td>\n",
       "      <td>0</td>\n",
       "      <td>0</td>\n",
       "    </tr>\n",
       "  </tbody>\n",
       "</table>\n",
       "<p>300000 rows × 10 columns</p>\n",
       "</div>"
      ],
      "text/plain": [
       "            id   send_date  estimated_age age_range channel  coupon  clicked  \\\n",
       "0            1  2019-04-12             59     46-60     SMS       2        0   \n",
       "1            2  2019-04-08             27     18-30   Email       2        0   \n",
       "2            3  2019-04-05             74       60+   Email       2        0   \n",
       "3            4  2019-04-21             32     31-45     SMS       2        0   \n",
       "4            5  2019-04-28             42     31-45   Email       2        0   \n",
       "...        ...         ...            ...       ...     ...     ...      ...   \n",
       "299995  299996  2019-04-26             23     18-30   Email       2        0   \n",
       "299996  299997  2019-04-30             52     46-60     SMS       4        0   \n",
       "299997  299998  2019-04-22             20     18-30     SMS       2        0   \n",
       "299998  299999  2019-04-04             53     46-60     SMS       2        0   \n",
       "299999  300000  2019-04-09             20     18-30   Email       2        0   \n",
       "\n",
       "       last_step  nb_units  order_value  \n",
       "0       received         0            0  \n",
       "1       received         0            0  \n",
       "2       received         0            0  \n",
       "3       received         0            0  \n",
       "4       received         0            0  \n",
       "...          ...       ...          ...  \n",
       "299995  received         0            0  \n",
       "299996  received         0            0  \n",
       "299997  received         0            0  \n",
       "299998  received         0            0  \n",
       "299999  received         0            0  \n",
       "\n",
       "[300000 rows x 10 columns]"
      ]
     },
     "execution_count": 3,
     "metadata": {},
     "output_type": "execute_result"
    }
   ],
   "source": [
    "df"
   ]
  },
  {
   "cell_type": "code",
   "execution_count": 5,
   "id": "ad44eb61",
   "metadata": {},
   "outputs": [
    {
     "data": {
      "text/plain": [
       "id                int64\n",
       "send_date        object\n",
       "estimated_age     int64\n",
       "age_range        object\n",
       "channel          object\n",
       "coupon            int64\n",
       "clicked           int64\n",
       "last_step        object\n",
       "nb_units          int64\n",
       "order_value       int64\n",
       "dtype: object"
      ]
     },
     "execution_count": 5,
     "metadata": {},
     "output_type": "execute_result"
    }
   ],
   "source": [
    "df.dtypes"
   ]
  },
  {
   "cell_type": "code",
   "execution_count": 9,
   "id": "d73015e5",
   "metadata": {},
   "outputs": [
    {
     "data": {
      "text/plain": [
       "(300000, 10)"
      ]
     },
     "execution_count": 9,
     "metadata": {},
     "output_type": "execute_result"
    }
   ],
   "source": [
    "df.shape"
   ]
  },
  {
   "cell_type": "code",
   "execution_count": 10,
   "id": "0025be3a",
   "metadata": {},
   "outputs": [
    {
     "data": {
      "text/html": [
       "<div>\n",
       "<style scoped>\n",
       "    .dataframe tbody tr th:only-of-type {\n",
       "        vertical-align: middle;\n",
       "    }\n",
       "\n",
       "    .dataframe tbody tr th {\n",
       "        vertical-align: top;\n",
       "    }\n",
       "\n",
       "    .dataframe thead th {\n",
       "        text-align: right;\n",
       "    }\n",
       "</style>\n",
       "<table border=\"1\" class=\"dataframe\">\n",
       "  <thead>\n",
       "    <tr style=\"text-align: right;\">\n",
       "      <th></th>\n",
       "      <th>id</th>\n",
       "      <th>estimated_age</th>\n",
       "      <th>coupon</th>\n",
       "      <th>clicked</th>\n",
       "      <th>nb_units</th>\n",
       "      <th>order_value</th>\n",
       "    </tr>\n",
       "  </thead>\n",
       "  <tbody>\n",
       "    <tr>\n",
       "      <th>count</th>\n",
       "      <td>300000.000000</td>\n",
       "      <td>300000.000000</td>\n",
       "      <td>300000.00000</td>\n",
       "      <td>300000.000000</td>\n",
       "      <td>300000.000000</td>\n",
       "      <td>300000.000000</td>\n",
       "    </tr>\n",
       "    <tr>\n",
       "      <th>mean</th>\n",
       "      <td>150000.500000</td>\n",
       "      <td>38.145600</td>\n",
       "      <td>3.09778</td>\n",
       "      <td>0.059220</td>\n",
       "      <td>0.010450</td>\n",
       "      <td>0.386213</td>\n",
       "    </tr>\n",
       "    <tr>\n",
       "      <th>std</th>\n",
       "      <td>86602.684716</td>\n",
       "      <td>13.855912</td>\n",
       "      <td>1.47778</td>\n",
       "      <td>0.236036</td>\n",
       "      <td>0.263529</td>\n",
       "      <td>10.305920</td>\n",
       "    </tr>\n",
       "    <tr>\n",
       "      <th>min</th>\n",
       "      <td>1.000000</td>\n",
       "      <td>18.000000</td>\n",
       "      <td>2.00000</td>\n",
       "      <td>0.000000</td>\n",
       "      <td>0.000000</td>\n",
       "      <td>0.000000</td>\n",
       "    </tr>\n",
       "    <tr>\n",
       "      <th>25%</th>\n",
       "      <td>75000.750000</td>\n",
       "      <td>27.000000</td>\n",
       "      <td>2.00000</td>\n",
       "      <td>0.000000</td>\n",
       "      <td>0.000000</td>\n",
       "      <td>0.000000</td>\n",
       "    </tr>\n",
       "    <tr>\n",
       "      <th>50%</th>\n",
       "      <td>150000.500000</td>\n",
       "      <td>36.000000</td>\n",
       "      <td>2.00000</td>\n",
       "      <td>0.000000</td>\n",
       "      <td>0.000000</td>\n",
       "      <td>0.000000</td>\n",
       "    </tr>\n",
       "    <tr>\n",
       "      <th>75%</th>\n",
       "      <td>225000.250000</td>\n",
       "      <td>45.000000</td>\n",
       "      <td>4.00000</td>\n",
       "      <td>0.000000</td>\n",
       "      <td>0.000000</td>\n",
       "      <td>0.000000</td>\n",
       "    </tr>\n",
       "    <tr>\n",
       "      <th>max</th>\n",
       "      <td>300000.000000</td>\n",
       "      <td>75.000000</td>\n",
       "      <td>6.00000</td>\n",
       "      <td>1.000000</td>\n",
       "      <td>100.000000</td>\n",
       "      <td>3994.000000</td>\n",
       "    </tr>\n",
       "  </tbody>\n",
       "</table>\n",
       "</div>"
      ],
      "text/plain": [
       "                  id  estimated_age        coupon        clicked  \\\n",
       "count  300000.000000  300000.000000  300000.00000  300000.000000   \n",
       "mean   150000.500000      38.145600       3.09778       0.059220   \n",
       "std     86602.684716      13.855912       1.47778       0.236036   \n",
       "min         1.000000      18.000000       2.00000       0.000000   \n",
       "25%     75000.750000      27.000000       2.00000       0.000000   \n",
       "50%    150000.500000      36.000000       2.00000       0.000000   \n",
       "75%    225000.250000      45.000000       4.00000       0.000000   \n",
       "max    300000.000000      75.000000       6.00000       1.000000   \n",
       "\n",
       "            nb_units    order_value  \n",
       "count  300000.000000  300000.000000  \n",
       "mean        0.010450       0.386213  \n",
       "std         0.263529      10.305920  \n",
       "min         0.000000       0.000000  \n",
       "25%         0.000000       0.000000  \n",
       "50%         0.000000       0.000000  \n",
       "75%         0.000000       0.000000  \n",
       "max       100.000000    3994.000000  "
      ]
     },
     "execution_count": 10,
     "metadata": {},
     "output_type": "execute_result"
    }
   ],
   "source": [
    "df.describe()"
   ]
  },
  {
   "cell_type": "code",
   "execution_count": 4,
   "id": "49992bf1",
   "metadata": {},
   "outputs": [],
   "source": [
    "cat_var = [\"send_date\",\"age_range\",\"channel\",\"last_step\"]"
   ]
  },
  {
   "cell_type": "code",
   "execution_count": 13,
   "id": "04ac6ed6",
   "metadata": {},
   "outputs": [
    {
     "name": "stdout",
     "output_type": "stream",
     "text": [
      "*********send_date\n",
      "2019-04-22    9889\n",
      "2019-04-02    9813\n",
      "2019-04-03    9805\n",
      "2019-04-20    9800\n",
      "2019-04-11    9761\n",
      "2019-04-25    9756\n",
      "2019-04-27    9745\n",
      "2019-04-09    9744\n",
      "2019-04-05    9737\n",
      "2019-04-17    9732\n",
      "2019-04-29    9725\n",
      "2019-04-30    9709\n",
      "2019-04-18    9708\n",
      "2019-05-01    9708\n",
      "2019-04-15    9689\n",
      "2019-04-16    9680\n",
      "2019-04-10    9658\n",
      "2019-04-19    9655\n",
      "2019-04-07    9653\n",
      "2019-04-13    9652\n",
      "2019-04-21    9651\n",
      "2019-04-14    9651\n",
      "2019-04-26    9650\n",
      "2019-04-01    9604\n",
      "2019-04-04    9586\n",
      "2019-04-08    9574\n",
      "2019-04-12    9573\n",
      "2019-04-06    9571\n",
      "2019-04-28    9557\n",
      "2019-04-24    9494\n",
      "2019-04-23    9470\n",
      "Name: send_date, dtype: int64\n",
      "*********age_range\n",
      "31-45    122900\n",
      "18-30    102107\n",
      "46-60     50893\n",
      "60+       24100\n",
      "Name: age_range, dtype: int64\n",
      "*********channel\n",
      "SMS      163511\n",
      "Email    136489\n",
      "Name: channel, dtype: int64\n",
      "*********last_step\n",
      "received         282234\n",
      "bounced            6950\n",
      "saw review         5252\n",
      "added to cart      2753\n",
      "purchased          1862\n",
      "payment page        949\n",
      "Name: last_step, dtype: int64\n"
     ]
    }
   ],
   "source": [
    "for i in cat_var:\n",
    "    print(\"*********\"+i)\n",
    "    print(df[i].value_counts())"
   ]
  },
  {
   "cell_type": "code",
   "execution_count": 17,
   "id": "9d9fab9f",
   "metadata": {},
   "outputs": [
    {
     "data": {
      "text/plain": [
       "Index(['id', 'send_date', 'estimated_age', 'age_range', 'channel', 'coupon',\n",
       "       'clicked', 'last_step', 'nb_units', 'order_value'],\n",
       "      dtype='object')"
      ]
     },
     "execution_count": 17,
     "metadata": {},
     "output_type": "execute_result"
    }
   ],
   "source": [
    "df.columns"
   ]
  },
  {
   "cell_type": "code",
   "execution_count": null,
   "id": "ed1de380",
   "metadata": {},
   "outputs": [],
   "source": []
  },
  {
   "cell_type": "code",
   "execution_count": 6,
   "id": "7b380c47",
   "metadata": {},
   "outputs": [
    {
     "name": "stderr",
     "output_type": "stream",
     "text": [
      "C:\\Users\\dell\\anaconda3\\lib\\site-packages\\seaborn\\_decorators.py:36: FutureWarning: Pass the following variable as a keyword arg: x. From version 0.12, the only valid positional argument will be `data`, and passing other arguments without an explicit keyword will result in an error or misinterpretation.\n",
      "  warnings.warn(\n"
     ]
    },
    {
     "data": {
      "text/plain": [
       "<AxesSubplot:xlabel='clicked', ylabel='count'>"
      ]
     },
     "execution_count": 6,
     "metadata": {},
     "output_type": "execute_result"
    },
    {
     "data": {
      "image/png": "[encoded data removed]",
      "text/plain": [
       "<Figure size 432x288 with 1 Axes>"
      ]
     },
     "metadata": {
      "needs_background": "light"
     },
     "output_type": "display_data"
    }
   ],
   "source": [
    "sns.countplot(df['clicked'])"
   ]
  },
  {
   "cell_type": "code",
   "execution_count": 12,
   "id": "7dfec03f",
   "metadata": {},
   "outputs": [
    {
     "data": {
      "text/plain": [
       "<AxesSubplot:xlabel='channel', ylabel='order_value'>"
      ]
     },
     "execution_count": 12,
     "metadata": {},
     "output_type": "execute_result"
    },
    {
     "data": {
      "image/png": "[encoded data removed]",
      "text/plain": [
       "<Figure size 432x288 with 1 Axes>"
      ]
     },
     "metadata": {
      "needs_background": "light"
     },
     "output_type": "display_data"
    }
   ],
   "source": [
    "sns.barplot(x=df['channel'],y=df['order_value'],hue=df['age_range'])"
   ]
  },
  {
   "cell_type": "code",
   "execution_count": 11,
   "id": "a002e576",
   "metadata": {},
   "outputs": [
    {
     "data": {
      "text/plain": [
       "<AxesSubplot:xlabel='channel', ylabel='clicked'>"
      ]
     },
     "execution_count": 11,
     "metadata": {},
     "output_type": "execute_result"
    },
    {
     "data": {
      "image/png": "[encoded data removed]",
      "text/plain": [
       "<Figure size 432x288 with 1 Axes>"
      ]
     },
     "metadata": {
      "needs_background": "light"
     },
     "output_type": "display_data"
    }
   ],
   "source": [
    "sns.barplot(x=df['channel'],y=df['clicked'],hue=df['age_range'])"
   ]
  },
  {
   "cell_type": "code",
   "execution_count": 9,
   "id": "6c2e5a2e",
   "metadata": {},
   "outputs": [
    {
     "data": {
      "text/plain": [
       "<AxesSubplot:xlabel='channel', ylabel='nb_units'>"
      ]
     },
     "execution_count": 9,
     "metadata": {},
     "output_type": "execute_result"
    },
    {
     "data": {
      "image/png": "[encoded data removed]",
      "text/plain": [
       "<Figure size 432x288 with 1 Axes>"
      ]
     },
     "metadata": {
      "needs_background": "light"
     },
     "output_type": "display_data"
    }
   ],
   "source": [
    "sns.barplot(x=df['channel'],y=df['nb_units'],hue=df['age_range'])"
   ]
  },
  {
   "cell_type": "code",
   "execution_count": null,
   "id": "9afb455b",
   "metadata": {},
   "outputs": [],
   "source": []
  },
  {
   "cell_type": "code",
   "execution_count": 7,
   "id": "21b5153a",
   "metadata": {},
   "outputs": [
    {
     "data": {
      "text/plain": [
       "<AxesSubplot:xlabel='age_range', ylabel='clicked'>"
      ]
     },
     "execution_count": 7,
     "metadata": {},
     "output_type": "execute_result"
    },
    {
     "data": {
      "image/png": "[encoded data removed]",
      "text/plain": [
       "<Figure size 432x288 with 1 Axes>"
      ]
     },
     "metadata": {
      "needs_background": "light"
     },
     "output_type": "display_data"
    }
   ],
   "source": [
    "sns.barplot(x=\"age_range\", y=\"clicked\", data=df,hue='channel')"
   ]
  },
  {
   "cell_type": "code",
   "execution_count": 10,
   "id": "91caa78b",
   "metadata": {},
   "outputs": [
    {
     "data": {
      "text/plain": [
       "<AxesSubplot:xlabel='channel', ylabel='nb_units'>"
      ]
     },
     "execution_count": 10,
     "metadata": {},
     "output_type": "execute_result"
    },
    {
     "data": {
      "image/png": "[encoded data removed]",
      "text/plain": [
       "<Figure size 432x288 with 1 Axes>"
      ]
     },
     "metadata": {
      "needs_background": "light"
     },
     "output_type": "display_data"
    }
   ],
   "source": [
    "sns.barplot(x=\"channel\", y=\"nb_units\", data=df)"
   ]
  },
  {
   "cell_type": "code",
   "execution_count": null,
   "id": "893f0c9a",
   "metadata": {},
   "outputs": [],
   "source": []
  },
  {
   "cell_type": "code",
   "execution_count": 37,
   "id": "d1061567",
   "metadata": {},
   "outputs": [],
   "source": [
    "df1=df"
   ]
  },
  {
   "cell_type": "code",
   "execution_count": 19,
   "id": "46da0292",
   "metadata": {},
   "outputs": [
    {
     "data": {
      "text/html": [
       "<div>\n",
       "<style scoped>\n",
       "    .dataframe tbody tr th:only-of-type {\n",
       "        vertical-align: middle;\n",
       "    }\n",
       "\n",
       "    .dataframe tbody tr th {\n",
       "        vertical-align: top;\n",
       "    }\n",
       "\n",
       "    .dataframe thead th {\n",
       "        text-align: right;\n",
       "    }\n",
       "</style>\n",
       "<table border=\"1\" class=\"dataframe\">\n",
       "  <thead>\n",
       "    <tr style=\"text-align: right;\">\n",
       "      <th></th>\n",
       "      <th>id</th>\n",
       "      <th>send_date</th>\n",
       "      <th>estimated_age</th>\n",
       "      <th>age_range</th>\n",
       "      <th>channel</th>\n",
       "      <th>coupon</th>\n",
       "      <th>clicked</th>\n",
       "      <th>last_step</th>\n",
       "      <th>nb_units</th>\n",
       "      <th>order_value</th>\n",
       "    </tr>\n",
       "  </thead>\n",
       "  <tbody>\n",
       "    <tr>\n",
       "      <th>0</th>\n",
       "      <td>1</td>\n",
       "      <td>2019-04-12</td>\n",
       "      <td>59</td>\n",
       "      <td>46-60</td>\n",
       "      <td>SMS</td>\n",
       "      <td>2</td>\n",
       "      <td>0</td>\n",
       "      <td>received</td>\n",
       "      <td>0</td>\n",
       "      <td>0</td>\n",
       "    </tr>\n",
       "    <tr>\n",
       "      <th>1</th>\n",
       "      <td>2</td>\n",
       "      <td>2019-04-08</td>\n",
       "      <td>27</td>\n",
       "      <td>18-30</td>\n",
       "      <td>Email</td>\n",
       "      <td>2</td>\n",
       "      <td>0</td>\n",
       "      <td>received</td>\n",
       "      <td>0</td>\n",
       "      <td>0</td>\n",
       "    </tr>\n",
       "    <tr>\n",
       "      <th>2</th>\n",
       "      <td>3</td>\n",
       "      <td>2019-04-05</td>\n",
       "      <td>74</td>\n",
       "      <td>60+</td>\n",
       "      <td>Email</td>\n",
       "      <td>2</td>\n",
       "      <td>0</td>\n",
       "      <td>received</td>\n",
       "      <td>0</td>\n",
       "      <td>0</td>\n",
       "    </tr>\n",
       "    <tr>\n",
       "      <th>3</th>\n",
       "      <td>4</td>\n",
       "      <td>2019-04-21</td>\n",
       "      <td>32</td>\n",
       "      <td>31-45</td>\n",
       "      <td>SMS</td>\n",
       "      <td>2</td>\n",
       "      <td>0</td>\n",
       "      <td>received</td>\n",
       "      <td>0</td>\n",
       "      <td>0</td>\n",
       "    </tr>\n",
       "    <tr>\n",
       "      <th>4</th>\n",
       "      <td>5</td>\n",
       "      <td>2019-04-28</td>\n",
       "      <td>42</td>\n",
       "      <td>31-45</td>\n",
       "      <td>Email</td>\n",
       "      <td>2</td>\n",
       "      <td>0</td>\n",
       "      <td>received</td>\n",
       "      <td>0</td>\n",
       "      <td>0</td>\n",
       "    </tr>\n",
       "    <tr>\n",
       "      <th>...</th>\n",
       "      <td>...</td>\n",
       "      <td>...</td>\n",
       "      <td>...</td>\n",
       "      <td>...</td>\n",
       "      <td>...</td>\n",
       "      <td>...</td>\n",
       "      <td>...</td>\n",
       "      <td>...</td>\n",
       "      <td>...</td>\n",
       "      <td>...</td>\n",
       "    </tr>\n",
       "    <tr>\n",
       "      <th>299995</th>\n",
       "      <td>299996</td>\n",
       "      <td>2019-04-26</td>\n",
       "      <td>23</td>\n",
       "      <td>18-30</td>\n",
       "      <td>Email</td>\n",
       "      <td>2</td>\n",
       "      <td>0</td>\n",
       "      <td>received</td>\n",
       "      <td>0</td>\n",
       "      <td>0</td>\n",
       "    </tr>\n",
       "    <tr>\n",
       "      <th>299996</th>\n",
       "      <td>299997</td>\n",
       "      <td>2019-04-30</td>\n",
       "      <td>52</td>\n",
       "      <td>46-60</td>\n",
       "      <td>SMS</td>\n",
       "      <td>4</td>\n",
       "      <td>0</td>\n",
       "      <td>received</td>\n",
       "      <td>0</td>\n",
       "      <td>0</td>\n",
       "    </tr>\n",
       "    <tr>\n",
       "      <th>299997</th>\n",
       "      <td>299998</td>\n",
       "      <td>2019-04-22</td>\n",
       "      <td>20</td>\n",
       "      <td>18-30</td>\n",
       "      <td>SMS</td>\n",
       "      <td>2</td>\n",
       "      <td>0</td>\n",
       "      <td>received</td>\n",
       "      <td>0</td>\n",
       "      <td>0</td>\n",
       "    </tr>\n",
       "    <tr>\n",
       "      <th>299998</th>\n",
       "      <td>299999</td>\n",
       "      <td>2019-04-04</td>\n",
       "      <td>53</td>\n",
       "      <td>46-60</td>\n",
       "      <td>SMS</td>\n",
       "      <td>2</td>\n",
       "      <td>0</td>\n",
       "      <td>received</td>\n",
       "      <td>0</td>\n",
       "      <td>0</td>\n",
       "    </tr>\n",
       "    <tr>\n",
       "      <th>299999</th>\n",
       "      <td>300000</td>\n",
       "      <td>2019-04-09</td>\n",
       "      <td>20</td>\n",
       "      <td>18-30</td>\n",
       "      <td>Email</td>\n",
       "      <td>2</td>\n",
       "      <td>0</td>\n",
       "      <td>received</td>\n",
       "      <td>0</td>\n",
       "      <td>0</td>\n",
       "    </tr>\n",
       "  </tbody>\n",
       "</table>\n",
       "<p>300000 rows × 10 columns</p>\n",
       "</div>"
      ],
      "text/plain": [
       "            id   send_date  estimated_age age_range channel  coupon  clicked  \\\n",
       "0            1  2019-04-12             59     46-60     SMS       2        0   \n",
       "1            2  2019-04-08             27     18-30   Email       2        0   \n",
       "2            3  2019-04-05             74       60+   Email       2        0   \n",
       "3            4  2019-04-21             32     31-45     SMS       2        0   \n",
       "4            5  2019-04-28             42     31-45   Email       2        0   \n",
       "...        ...         ...            ...       ...     ...     ...      ...   \n",
       "299995  299996  2019-04-26             23     18-30   Email       2        0   \n",
       "299996  299997  2019-04-30             52     46-60     SMS       4        0   \n",
       "299997  299998  2019-04-22             20     18-30     SMS       2        0   \n",
       "299998  299999  2019-04-04             53     46-60     SMS       2        0   \n",
       "299999  300000  2019-04-09             20     18-30   Email       2        0   \n",
       "\n",
       "       last_step  nb_units  order_value  \n",
       "0       received         0            0  \n",
       "1       received         0            0  \n",
       "2       received         0            0  \n",
       "3       received         0            0  \n",
       "4       received         0            0  \n",
       "...          ...       ...          ...  \n",
       "299995  received         0            0  \n",
       "299996  received         0            0  \n",
       "299997  received         0            0  \n",
       "299998  received         0            0  \n",
       "299999  received         0            0  \n",
       "\n",
       "[300000 rows x 10 columns]"
      ]
     },
     "execution_count": 19,
     "metadata": {},
     "output_type": "execute_result"
    }
   ],
   "source": [
    "df1"
   ]
  },
  {
   "cell_type": "code",
   "execution_count": null,
   "id": "60bad905",
   "metadata": {},
   "outputs": [],
   "source": []
  },
  {
   "cell_type": "code",
   "execution_count": 7,
   "id": "a0186069",
   "metadata": {},
   "outputs": [
    {
     "data": {
      "text/plain": [
       "age_range  last_step    \n",
       "18-30      added to cart       803\n",
       "           bounced            2246\n",
       "           payment page        504\n",
       "           purchased           699\n",
       "           received          95902\n",
       "           saw review         1953\n",
       "31-45      added to cart      1260\n",
       "           bounced            3188\n",
       "           payment page        194\n",
       "           purchased           743\n",
       "           received         115122\n",
       "           saw review         2393\n",
       "46-60      added to cart       664\n",
       "           bounced            1349\n",
       "           payment page        143\n",
       "           purchased           412\n",
       "           received          47628\n",
       "           saw review          697\n",
       "60+        added to cart        26\n",
       "           bounced             167\n",
       "           payment page        108\n",
       "           purchased             8\n",
       "           received          23582\n",
       "           saw review          209\n",
       "Name: nb_units, dtype: int64"
      ]
     },
     "execution_count": 7,
     "metadata": {},
     "output_type": "execute_result"
    }
   ],
   "source": [
    "df.groupby(['age_range','last_step'])['nb_units'].count()"
   ]
  },
  {
   "cell_type": "code",
   "execution_count": 9,
   "id": "da0e4cd4",
   "metadata": {},
   "outputs": [
    {
     "data": {
      "text/plain": [
       "channel  last_step    \n",
       "Email    added to cart       889\n",
       "         bounced            2807\n",
       "         payment page        195\n",
       "         purchased           948\n",
       "         received         128785\n",
       "         saw review         2865\n",
       "SMS      added to cart      1864\n",
       "         bounced            4143\n",
       "         payment page        754\n",
       "         purchased           914\n",
       "         received         153449\n",
       "         saw review         2387\n",
       "Name: nb_units, dtype: int64"
      ]
     },
     "execution_count": 9,
     "metadata": {},
     "output_type": "execute_result"
    }
   ],
   "source": [
    "df.groupby(['channel','last_step'])['nb_units'].count()"
   ]
  },
  {
   "cell_type": "code",
   "execution_count": 10,
   "id": "77b25907",
   "metadata": {},
   "outputs": [
    {
     "data": {
      "text/plain": [
       "channel  age_range  last_step    \n",
       "Email    18-30      added to cart      296\n",
       "                    bounced            851\n",
       "                    payment page        34\n",
       "                    purchased          273\n",
       "                    received         44413\n",
       "                    saw review         793\n",
       "         31-45      added to cart      385\n",
       "                    bounced           1508\n",
       "                    payment page        60\n",
       "                    purchased          558\n",
       "                    received         51609\n",
       "                    saw review        1760\n",
       "         46-60      added to cart      194\n",
       "                    bounced            388\n",
       "                    payment page        69\n",
       "                    purchased          115\n",
       "                    received         22006\n",
       "                    saw review         229\n",
       "         60+        added to cart       14\n",
       "                    bounced             60\n",
       "                    payment page        32\n",
       "                    purchased            2\n",
       "                    received         10757\n",
       "                    saw review          83\n",
       "SMS      18-30      added to cart      507\n",
       "                    bounced           1395\n",
       "                    payment page       470\n",
       "                    purchased          426\n",
       "                    received         51489\n",
       "                    saw review        1160\n",
       "         31-45      added to cart      875\n",
       "                    bounced           1680\n",
       "                    payment page       134\n",
       "                    purchased          185\n",
       "                    received         63513\n",
       "                    saw review         633\n",
       "         46-60      added to cart      470\n",
       "                    bounced            961\n",
       "                    payment page        74\n",
       "                    purchased          297\n",
       "                    received         25622\n",
       "                    saw review         468\n",
       "         60+        added to cart       12\n",
       "                    bounced            107\n",
       "                    payment page        76\n",
       "                    purchased            6\n",
       "                    received         12825\n",
       "                    saw review         126\n",
       "Name: nb_units, dtype: int64"
      ]
     },
     "execution_count": 10,
     "metadata": {},
     "output_type": "execute_result"
    }
   ],
   "source": [
    "df.groupby(['channel','age_range','last_step'])['nb_units'].count()"
   ]
  },
  {
   "cell_type": "code",
   "execution_count": 29,
   "id": "6f0986f9",
   "metadata": {},
   "outputs": [
    {
     "data": {
      "text/plain": [
       "array(['received', 'bounced', 'added to cart', 'purchased', 'saw review',\n",
       "       'payment page'], dtype=object)"
      ]
     },
     "execution_count": 29,
     "metadata": {},
     "output_type": "execute_result"
    }
   ],
   "source": [
    "df1['last_step'].unique()"
   ]
  },
  {
   "cell_type": "code",
   "execution_count": 38,
   "id": "875b9998",
   "metadata": {},
   "outputs": [
    {
     "name": "stderr",
     "output_type": "stream",
     "text": [
      "C:\\Users\\dell\\anaconda3\\lib\\site-packages\\seaborn\\distributions.py:2557: FutureWarning: `distplot` is a deprecated function and will be removed in a future version. Please adapt your code to use either `displot` (a figure-level function with similar flexibility) or `histplot` (an axes-level function for histograms).\n",
      "  warnings.warn(msg, FutureWarning)\n"
     ]
    },
    {
     "data": {
      "text/plain": [
       "<AxesSubplot:xlabel='estimated_age', ylabel='Density'>"
      ]
     },
     "execution_count": 38,
     "metadata": {},
     "output_type": "execute_result"
    },
    {
     "data": {
      "image/png": "[encoded data removed]",
      "text/plain": [
       "<Figure size 432x288 with 1 Axes>"
      ]
     },
     "metadata": {
      "needs_background": "light"
     },
     "output_type": "display_data"
    }
   ],
   "source": [
    "sns.distplot(df[\"estimated_age\"],kde=True)"
   ]
  },
  {
   "cell_type": "code",
   "execution_count": null,
   "id": "70f9ab5e",
   "metadata": {},
   "outputs": [],
   "source": []
  },
  {
   "cell_type": "code",
   "execution_count": 41,
   "id": "0961c59c",
   "metadata": {},
   "outputs": [
    {
     "data": {
      "text/plain": [
       "Index(['id', 'send_date', 'estimated_age', 'age_range', 'channel', 'coupon',\n",
       "       'clicked', 'last_step', 'nb_units', 'order_value'],\n",
       "      dtype='object')"
      ]
     },
     "execution_count": 41,
     "metadata": {},
     "output_type": "execute_result"
    }
   ],
   "source": [
    "df.columns"
   ]
  },
  {
   "cell_type": "code",
   "execution_count": 48,
   "id": "31d3d79e",
   "metadata": {},
   "outputs": [
    {
     "data": {
      "text/plain": [
       "<AxesSubplot:>"
      ]
     },
     "execution_count": 48,
     "metadata": {},
     "output_type": "execute_result"
    },
    {
     "data": {
      "image/png": "[encoded data removed]",
      "text/plain": [
       "<Figure size 432x288 with 2 Axes>"
      ]
     },
     "metadata": {
      "needs_background": "light"
     },
     "output_type": "display_data"
    }
   ],
   "source": [
    "sns.heatmap(df.corr(),annot=True,annot_kws={'size':8})"
   ]
  },
  {
   "cell_type": "code",
   "execution_count": null,
   "id": "b4725d80",
   "metadata": {},
   "outputs": [],
   "source": []
  },
  {
   "cell_type": "code",
   "execution_count": null,
   "id": "4112fdfd",
   "metadata": {},
   "outputs": [],
   "source": []
  }
 ],
 "metadata": {
  "kernelspec": {
   "display_name": "Python 3",
   "language": "python",
   "name": "python3"
  },
  "language_info": {
   "codemirror_mode": {
    "name": "ipython",
    "version": 3
   },
   "file_extension": ".py",
   "mimetype": "text/x-python",
   "name": "python",
   "nbconvert_exporter": "python",
   "pygments_lexer": "ipython3",
   "version": "3.8.8"
  }
 },
 "nbformat": 4,
 "nbformat_minor": 5
}
